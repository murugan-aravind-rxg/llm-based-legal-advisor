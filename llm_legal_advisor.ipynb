{
 "cells": [
  {
   "cell_type": "markdown",
   "metadata": {},
   "source": [
    "#### llm_legal_advisor\n",
    "\n",
    "#### Overview\n",
    "This module implements a parallel legal document analysis system using multiple AI agents to process legal documents concurrently."
   ]
  },
  {
   "cell_type": "markdown",
   "metadata": {},
   "source": []
  },
  {
   "cell_type": "code",
   "execution_count": 22,
   "metadata": {},
   "outputs": [],
   "source": [
    "# Start with imports \n",
    "import os\n",
    "import json\n",
    "from dotenv import load_dotenv\n",
    "from openai import OpenAI\n",
    "from IPython.display import Markdown, display\n",
    "import concurrent.futures"
   ]
  },
  {
   "cell_type": "code",
   "execution_count": 23,
   "metadata": {},
   "outputs": [],
   "source": [
    "load_dotenv(override=True)\n",
    "open_api_key = os.getenv(\"OPENAI_API_KEY\")\n",
    "groq_api_key = os.getenv(\"GROQ_API_KEY\")"
   ]
  },
  {
   "cell_type": "markdown",
   "metadata": {},
   "source": [
    "##### Helper Functions\n",
    "\n",
    "##### Technical Details\n",
    "- **Concurrency**: Uses ThreadPoolExecutor for parallel processing\n",
    "- **API**: Groq API with OpenAI-compatible interface\n"
   ]
  },
  {
   "cell_type": "markdown",
   "metadata": {},
   "source": [
    "##### `llm_summarizer`"
   ]
  },
  {
   "cell_type": "code",
   "execution_count": 24,
   "metadata": {},
   "outputs": [],
   "source": [
    "# Summarizes legal documents using AI\n",
    "def llm_summarizer(document: str) -> str:\n",
    "    response = OpenAI(api_key=groq_api_key, base_url=\"https://api.groq.com/openai/v1\").chat.completions.create(\n",
    "        model=\"llama-3.3-70b-versatile\",\n",
    "        messages=[\n",
    "            {\"role\": \"system\", \"content\": \"You are a corporate lawyer. Summarize the key points of legal documents clearly.\"},\n",
    "            {\"role\": \"user\", \"content\": f\"Summarize this document:\\n\\n{document}\"}\n",
    "        ],\n",
    "        temperature=0.3,\n",
    "    )\n",
    "    return response.choices[0].message.content"
   ]
  },
  {
   "cell_type": "markdown",
   "metadata": {},
   "source": [
    "##### `llm_evaluate_risks`"
   ]
  },
  {
   "cell_type": "code",
   "execution_count": 25,
   "metadata": {},
   "outputs": [],
   "source": [
    "# Identifies and analyzes legal risks in documents\n",
    "def llm_evaluate_risks(document: str) -> str:\n",
    "    response = OpenAI(api_key=groq_api_key, base_url=\"https://api.groq.com/openai/v1\").chat.completions.create(\n",
    "        model=\"llama-3.3-70b-versatile\",\n",
    "        messages=[\n",
    "            {\"role\": \"system\", \"content\": \"You are a corporate lawyer. Identify and explain legal risks in the following document.\"},\n",
    "            {\"role\": \"user\", \"content\": f\"Analyze the legal risks:\\n\\n{document}\"}\n",
    "        ],\n",
    "        temperature=0.3,\n",
    "    )\n",
    "    return response.choices[0].message.content"
   ]
  },
  {
   "cell_type": "markdown",
   "metadata": {},
   "source": [
    "##### `llm_tag_clauses`"
   ]
  },
  {
   "cell_type": "code",
   "execution_count": 26,
   "metadata": {},
   "outputs": [],
   "source": [
    "# Classifies and tags legal clauses by category\n",
    "def llm_tag_clauses(document: str) -> str:\n",
    "    response = OpenAI(api_key=groq_api_key, base_url=\"https://api.groq.com/openai/v1\").chat.completions.create(\n",
    "        model=\"llama-3.3-70b-versatile\",\n",
    "        messages=[\n",
    "            {\"role\": \"system\", \"content\": \"You are a legal clause classifier. Tag each clause with relevant legal and compliance categories.\"},\n",
    "            {\"role\": \"user\", \"content\": f\"Classify and tag clauses in this document:\\n\\n{document}\"}\n",
    "        ],\n",
    "        temperature=0.3,\n",
    "    )\n",
    "    return response.choices[0].message.content"
   ]
  },
  {
   "cell_type": "markdown",
   "metadata": {},
   "source": [
    "##### `aggregator`"
   ]
  },
  {
   "cell_type": "code",
   "execution_count": 27,
   "metadata": {},
   "outputs": [],
   "source": [
    "# Organizes and formats multiple AI responses into a structured report\n",
    "def aggregator(responses: list[str]) -> str:\n",
    "    sections = {\n",
    "        \"summary\": \"[Section 1: Summary]\",\n",
    "        \"risk\": \"[Section 2: Risk Analysis]\",\n",
    "        \"clauses\": \"[Section 3: Clause Classification & Compliance Tags]\"\n",
    "    }\n",
    "\n",
    "    ordered = {\n",
    "        \"summary\": None,\n",
    "        \"risk\": None,\n",
    "        \"clauses\": None\n",
    "    }\n",
    "\n",
    "    for r in responses:\n",
    "        content = r.lower()\n",
    "        if any(keyword in content for keyword in [\"summary\", \"[summary]\"]):\n",
    "            ordered[\"summary\"] = r\n",
    "        elif any(keyword in content for keyword in [\"risk\", \"liability\"]):\n",
    "            ordered[\"risk\"] = r\n",
    "        else:\n",
    "            ordered[\"clauses\"] = r\n",
    "\n",
    "    report_sections = [\n",
    "        f\"{sections[key]}\\n{value.strip()}\"\n",
    "        for key, value in ordered.items() if value\n",
    "    ]\n",
    "\n",
    "    return \"\\n\\n\".join(report_sections)"
   ]
  },
  {
   "cell_type": "markdown",
   "metadata": {},
   "source": [
    "##### `coordinator`"
   ]
  },
  {
   "cell_type": "code",
   "execution_count": 28,
   "metadata": {},
   "outputs": [],
   "source": [
    "# Orchestrates parallel execution of all legal analysis agents\n",
    "def coordinator(document: str) -> str:\n",
    "    \"\"\"Dispatch document to agents and aggregate results\"\"\"\n",
    "    agents = [llm_summarizer, llm_evaluate_risks, llm_tag_clauses]\n",
    "    with concurrent.futures.ThreadPoolExecutor() as executor:\n",
    "        futures = [executor.submit(agent, document) for agent in agents]\n",
    "        results = [f.result() for f in concurrent.futures.as_completed(futures)]\n",
    "    return aggregator(results)\n"
   ]
  },
  {
   "cell_type": "markdown",
   "metadata": {},
   "source": [
    "<b>Lets ask our legal corporate advisor</b>"
   ]
  },
  {
   "cell_type": "code",
   "execution_count": 29,
   "metadata": {},
   "outputs": [
    {
     "name": "stdout",
     "output_type": "stream",
     "text": [
      "[Section 1: Summary]\n",
      "Here is a summary of the document:\n",
      "\n",
      "**Parties Involved:** ABC Corp and XYZ Ltd.\n",
      "**Key Terms:**\n",
      "1. Responsibilities of each party will be determined as the project progresses.\n",
      "2. ABC Corp has the discretion to terminate the contract at any time.\n",
      "3. The agreement lacks specific provisions for data protection and GDPR compliance.\n",
      "\n",
      "[Section 2: Risk Analysis]\n",
      "**Legal Risks Analysis**\n",
      "\n",
      "The provided agreement between ABC Corp and XYZ Ltd. poses several legal risks, which can be categorized as follows:\n",
      "\n",
      "1. **Lack of Clear Responsibilities**: The agreement states that the responsibilities of each party shall be determined as the project progresses. This ambiguity can lead to:\n",
      "\t* Disputes and misunderstandings between the parties regarding their respective obligations.\n",
      "\t* Difficulty in establishing liability in case of project delays, defects, or other issues.\n",
      "\t* Potential breach of contract claims due to unclear expectations.\n",
      "2. **Unilateral Termination Clause**: The agreement allows ABC Corp to terminate the contract at its discretion, which may be considered an unfair contractual term. This can lead to:\n",
      "\t* XYZ Ltd. being left without recourse or compensation in case of termination.\n",
      "\t* Potential claims for unfair dismissal or breach of contract.\n",
      "3. **Insufficient Data Protection Provisions**: The agreement does not mention specific provisions regarding data protection or compliance with the General Data Protection Regulation (GDPR). This can result in:\n",
      "\t* Non-compliance with GDPR, leading to significant fines and reputational damage.\n",
      "\t* Liability for data breaches or unauthorized use of personal data.\n",
      "\t* Inadequate protection of sensitive information, potentially harming both parties and their customers.\n",
      "4. **Regulatory Non-Compliance**: The lack of GDPR compliance provisions may also lead to:\n",
      "\t* Regulatory investigations and enforcement actions.\n",
      "\t* Damage to the parties' reputation and loss of customer trust.\n",
      "\t* Potential liability for non-compliance with other relevant regulations, such as data protection laws in other jurisdictions.\n",
      "5. **Contractual Imbalance**: The agreement's terms, particularly the unilateral termination clause, may be considered unfair and create an imbalance between the parties. This can lead to:\n",
      "\t* Claims for unfair contract terms under relevant laws, such as the Unfair Contract Terms Act (UCTA) in the UK.\n",
      "\t* Potential renegotiation of the contract terms or termination of the agreement.\n",
      "\n",
      "To mitigate these risks, it is recommended that the agreement be revised to include:\n",
      "\n",
      "1. Clear and specific responsibilities for each party.\n",
      "2. Mutual termination provisions or a more balanced termination clause.\n",
      "3. Comprehensive data protection provisions, including GDPR compliance.\n",
      "4. Regular reviews and updates to ensure regulatory compliance.\n",
      "5. A more balanced and fair contractual framework to protect the interests of both parties.\n"
     ]
    }
   ],
   "source": [
    "dummy_document = \"\"\"\n",
    "This agreement is made between ABC Corp and XYZ Ltd. The responsibilities of each party shall be determined as the project progresses.\n",
    "ABC Corp may terminate the contract at its discretion. No specific provisions are mentioned regarding data protection or compliance with GDPR.\n",
    "\"\"\"\n",
    "\n",
    "final_report = coordinator(dummy_document)\n",
    "print(final_report)\n"
   ]
  }
 ],
 "metadata": {
  "kernelspec": {
   "display_name": ".venv",
   "language": "python",
   "name": "python3"
  },
  "language_info": {
   "codemirror_mode": {
    "name": "ipython",
    "version": 3
   },
   "file_extension": ".py",
   "mimetype": "text/x-python",
   "name": "python",
   "nbconvert_exporter": "python",
   "pygments_lexer": "ipython3",
   "version": "3.12.8"
  }
 },
 "nbformat": 4,
 "nbformat_minor": 2
}
